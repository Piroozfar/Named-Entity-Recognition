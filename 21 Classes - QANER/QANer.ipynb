{
  "cells": [
    {
      "cell_type": "markdown",
      "source": [
        "#Installation"
      ],
      "metadata": {
        "id": "cW5OaJwiSrU_"
      }
    },
    {
      "cell_type": "code",
      "execution_count": null,
      "metadata": {
        "id": "tbsCOSgy1RQg"
      },
      "outputs": [],
      "source": [
        "pip install qaner\n",
        "pip install numpy\n",
        "pip install hazm"
      ]
    },
    {
      "cell_type": "code",
      "execution_count": null,
      "metadata": {
        "id": "gkzHQvy0rF4U"
      },
      "outputs": [],
      "source": [
        "from google.colab import drive\n",
        "drive.mount('/content/drive')"
      ]
    },
    {
      "cell_type": "code",
      "execution_count": null,
      "metadata": {
        "colab": {
          "base_uri": "https://localhost:8080/"
        },
        "id": "X9A4TetamsqU",
        "outputId": "804a153c-d3d9-4bdc-e2c1-b5bc2a4a6bff"
      },
      "outputs": [
        {
          "name": "stdout",
          "output_type": "stream",
          "text": [
            "Looking in indexes: https://pypi.org/simple, https://us-python.pkg.dev/colab-wheels/public/simple/\n",
            "Requirement already satisfied: torch==1.11.0 in /usr/local/lib/python3.10/dist-packages (1.11.0)\n",
            "Collecting torchvision==0.12.0\n",
            "  Downloading torchvision-0.12.0-cp310-cp310-manylinux1_x86_64.whl (21.0 MB)\n",
            "\u001b[2K     \u001b[90m━━━━━━━━━━━━━━━━━━━━━━━━━━━━━━━━━━━━━━━━\u001b[0m \u001b[32m21.0/21.0 MB\u001b[0m \u001b[31m32.2 MB/s\u001b[0m eta \u001b[36m0:00:00\u001b[0m\n",
            "\u001b[?25hCollecting torchaudio==0.11.0\n",
            "  Downloading torchaudio-0.11.0-cp310-cp310-manylinux1_x86_64.whl (2.9 MB)\n",
            "\u001b[2K     \u001b[90m━━━━━━━━━━━━━━━━━━━━━━━━━━━━━━━━━━━━━━━━\u001b[0m \u001b[32m2.9/2.9 MB\u001b[0m \u001b[31m49.8 MB/s\u001b[0m eta \u001b[36m0:00:00\u001b[0m\n",
            "\u001b[?25hRequirement already satisfied: typing-extensions in /usr/local/lib/python3.10/dist-packages (from torch==1.11.0) (4.5.0)\n",
            "Requirement already satisfied: numpy in /usr/local/lib/python3.10/dist-packages (from torchvision==0.12.0) (1.21.6)\n",
            "Requirement already satisfied: requests in /usr/local/lib/python3.10/dist-packages (from torchvision==0.12.0) (2.27.1)\n",
            "Requirement already satisfied: pillow!=8.3.*,>=5.3.0 in /usr/local/lib/python3.10/dist-packages (from torchvision==0.12.0) (8.4.0)\n",
            "Requirement already satisfied: urllib3<1.27,>=1.21.1 in /usr/local/lib/python3.10/dist-packages (from requests->torchvision==0.12.0) (1.26.15)\n",
            "Requirement already satisfied: certifi>=2017.4.17 in /usr/local/lib/python3.10/dist-packages (from requests->torchvision==0.12.0) (2022.12.7)\n",
            "Requirement already satisfied: charset-normalizer~=2.0.0 in /usr/local/lib/python3.10/dist-packages (from requests->torchvision==0.12.0) (2.0.12)\n",
            "Requirement already satisfied: idna<4,>=2.5 in /usr/local/lib/python3.10/dist-packages (from requests->torchvision==0.12.0) (3.4)\n",
            "Installing collected packages: torchvision, torchaudio\n",
            "  Attempting uninstall: torchvision\n",
            "    Found existing installation: torchvision 0.15.2+cu118\n",
            "    Uninstalling torchvision-0.15.2+cu118:\n",
            "      Successfully uninstalled torchvision-0.15.2+cu118\n",
            "  Attempting uninstall: torchaudio\n",
            "    Found existing installation: torchaudio 2.0.2+cu118\n",
            "    Uninstalling torchaudio-2.0.2+cu118:\n",
            "      Successfully uninstalled torchaudio-2.0.2+cu118\n",
            "Successfully installed torchaudio-0.11.0 torchvision-0.12.0\n"
          ]
        }
      ],
      "source": [
        "|pip install torch==1.11.0 torchvision==0.12.0 torchaudio==0.11.0"
      ]
    },
    {
      "cell_type": "code",
      "execution_count": null,
      "metadata": {
        "id": "XBCSifI81Yk9"
      },
      "outputs": [],
      "source": [
        "pip install transformers"
      ]
    },
    {
      "cell_type": "code",
      "execution_count": null,
      "metadata": {
        "id": "zr2AKDeQzutY"
      },
      "outputs": [],
      "source": [
        "!git clone https://github.com/dayyass/QaNER.git"
      ]
    },
    {
      "cell_type": "code",
      "execution_count": null,
      "metadata": {
        "id": "vNj1NwK7z-Lq"
      },
      "outputs": [],
      "source": [
        "!pip install -r /content/QaNER/requirements.txt"
      ]
    },
    {
      "cell_type": "code",
      "execution_count": null,
      "metadata": {
        "id": "3I01_Stnh4TJ"
      },
      "outputs": [],
      "source": [
        "pip install --target=/content/QaNER qaner"
      ]
    },
    {
      "cell_type": "code",
      "execution_count": null,
      "metadata": {
        "colab": {
          "base_uri": "https://localhost:8080/"
        },
        "id": "gcyV2CREoh2z",
        "outputId": "20b3c363-3607-4c56-bb59-83a7af90d145"
      },
      "outputs": [
        {
          "output_type": "stream",
          "name": "stdout",
          "text": [
            "/content/drive/MyDrive/QaNER\n"
          ]
        }
      ],
      "source": [
        "cd /content/drive/MyDrive/QaNER\n"
      ]
    },
    {
      "cell_type": "code",
      "execution_count": null,
      "metadata": {
        "colab": {
          "base_uri": "https://localhost:8080/"
        },
        "id": "aqmaDVLKg49L",
        "outputId": "1771c4c8-c8b0-4e38-9135-5dc49fad925f"
      },
      "outputs": [
        {
          "output_type": "stream",
          "name": "stdout",
          "text": [
            "/content/drive/MyDrive/QaNER/qaner\n"
          ]
        }
      ],
      "source": [
        "cd /content/drive/MyDrive/QaNER/qaner\n"
      ]
    },
    {
      "cell_type": "code",
      "execution_count": null,
      "metadata": {
        "id": "jO3XHRjjrYpN"
      },
      "outputs": [],
      "source": [
        "cd /content/QaNER"
      ]
    },
    {
      "cell_type": "code",
      "execution_count": null,
      "metadata": {
        "colab": {
          "base_uri": "https://localhost:8080/",
          "height": 36
        },
        "id": "KCRwIC3FKnoi",
        "outputId": "c358db03-cab8-4c6d-d345-55e0c81b8e78"
      },
      "outputs": [
        {
          "data": {
            "application/vnd.google.colaboratory.intrinsic+json": {
              "type": "string"
            },
            "text/plain": [
              "'/content'"
            ]
          },
          "execution_count": 14,
          "metadata": {},
          "output_type": "execute_result"
        }
      ],
      "source": [
        "pwd"
      ]
    },
    {
      "cell_type": "code",
      "execution_count": null,
      "metadata": {
        "id": "W3FI9NxRfgHO"
      },
      "outputs": [],
      "source": [
        "import sys\n",
        "sys.path.insert(0,'/content/QaNER/')"
      ]
    },
    {
      "cell_type": "code",
      "execution_count": null,
      "metadata": {
        "id": "PihX2qRFhXJ9"
      },
      "outputs": [],
      "source": [
        "pip install --qaner"
      ]
    },
    {
      "cell_type": "code",
      "execution_count": null,
      "metadata": {
        "id": "udAH0SaXLZuj"
      },
      "outputs": [],
      "source": [
        "from qaner.arg_parse import get_train_args\n",
        "from qaner.data_utils import prepare_sentences_and_spans, read_bio_markup\n",
        "from qaner.dataset import Collator, Dataset\n",
        "from qaner.train_utils import train\n",
        "from qaner.utils import set_global_seed"
      ]
    },
    {
      "cell_type": "code",
      "execution_count": null,
      "metadata": {
        "id": "--EY4dLHnzk5"
      },
      "outputs": [],
      "source": [
        "pip install numpy==1.23"
      ]
    },
    {
      "cell_type": "code",
      "execution_count": null,
      "metadata": {
        "id": "jjqT3rVqofkT"
      },
      "outputs": [],
      "source": [
        "pip install tensorboard==2.12"
      ]
    },
    {
      "cell_type": "code",
      "execution_count": null,
      "metadata": {
        "id": "cejbRxWNot5f"
      },
      "outputs": [],
      "source": [
        "pip install torch==2.0.1"
      ]
    },
    {
      "cell_type": "code",
      "execution_count": null,
      "metadata": {
        "colab": {
          "base_uri": "https://localhost:8080/"
        },
        "id": "fc15sJ1Edosb",
        "outputId": "b7b4cee5-8dd8-4a78-c26d-81a3b38f7e2c"
      },
      "outputs": [
        {
          "output_type": "stream",
          "name": "stdout",
          "text": [
            "/content/drive/MyDrive/QaNER\n"
          ]
        }
      ],
      "source": [
        "cd /content/drive/MyDrive/QaNER/\n"
      ]
    },
    {
      "cell_type": "markdown",
      "metadata": {
        "id": "wEt--GdDJC0D"
      },
      "source": [
        "#normalize"
      ]
    },
    {
      "cell_type": "code",
      "execution_count": null,
      "metadata": {
        "colab": {
          "base_uri": "https://localhost:8080/",
          "height": 424
        },
        "id": "dXMJMrEBLwvD",
        "outputId": "c5ca3d78-538f-4dd4-f666-dfb0fb27caa2"
      },
      "outputs": [
        {
          "data": {
            "text/html": [
              "\n",
              "  <div id=\"df-6d07831e-e19e-4eff-977c-972479c2a452\">\n",
              "    <div class=\"colab-df-container\">\n",
              "      <div>\n",
              "<style scoped>\n",
              "    .dataframe tbody tr th:only-of-type {\n",
              "        vertical-align: middle;\n",
              "    }\n",
              "\n",
              "    .dataframe tbody tr th {\n",
              "        vertical-align: top;\n",
              "    }\n",
              "\n",
              "    .dataframe thead th {\n",
              "        text-align: right;\n",
              "    }\n",
              "</style>\n",
              "<table border=\"1\" class=\"dataframe\">\n",
              "  <thead>\n",
              "    <tr style=\"text-align: right;\">\n",
              "      <th></th>\n",
              "      <th>O</th>\n",
              "      <th>{</th>\n",
              "    </tr>\n",
              "  </thead>\n",
              "  <tbody>\n",
              "    <tr>\n",
              "      <th>0</th>\n",
              "      <td>O</td>\n",
              "      <td>صرفه</td>\n",
              "    </tr>\n",
              "    <tr>\n",
              "      <th>1</th>\n",
              "      <td>O</td>\n",
              "      <td>اى</td>\n",
              "    </tr>\n",
              "    <tr>\n",
              "      <th>2</th>\n",
              "      <td>O</td>\n",
              "      <td>در</td>\n",
              "    </tr>\n",
              "    <tr>\n",
              "      <th>3</th>\n",
              "      <td>O</td>\n",
              "      <td>سخن</td>\n",
              "    </tr>\n",
              "    <tr>\n",
              "      <th>4</th>\n",
              "      <td>O</td>\n",
              "      <td>نگه</td>\n",
              "    </tr>\n",
              "    <tr>\n",
              "      <th>...</th>\n",
              "      <td>...</td>\n",
              "      <td>...</td>\n",
              "    </tr>\n",
              "    <tr>\n",
              "      <th>34007</th>\n",
              "      <td>O</td>\n",
              "      <td>بنزد</td>\n",
              "    </tr>\n",
              "    <tr>\n",
              "      <th>34008</th>\n",
              "      <td>O</td>\n",
              "      <td>شما</td>\n",
              "    </tr>\n",
              "    <tr>\n",
              "      <th>34009</th>\n",
              "      <td>O</td>\n",
              "      <td>خواهيم</td>\n",
              "    </tr>\n",
              "    <tr>\n",
              "      <th>34010</th>\n",
              "      <td>O</td>\n",
              "      <td>آمد</td>\n",
              "    </tr>\n",
              "    <tr>\n",
              "      <th>34011</th>\n",
              "      <td>O</td>\n",
              "      <td>.</td>\n",
              "    </tr>\n",
              "  </tbody>\n",
              "</table>\n",
              "<p>34012 rows × 2 columns</p>\n",
              "</div>\n",
              "      <button class=\"colab-df-convert\" onclick=\"convertToInteractive('df-6d07831e-e19e-4eff-977c-972479c2a452')\"\n",
              "              title=\"Convert this dataframe to an interactive table.\"\n",
              "              style=\"display:none;\">\n",
              "        \n",
              "  <svg xmlns=\"http://www.w3.org/2000/svg\" height=\"24px\"viewBox=\"0 0 24 24\"\n",
              "       width=\"24px\">\n",
              "    <path d=\"M0 0h24v24H0V0z\" fill=\"none\"/>\n",
              "    <path d=\"M18.56 5.44l.94 2.06.94-2.06 2.06-.94-2.06-.94-.94-2.06-.94 2.06-2.06.94zm-11 1L8.5 8.5l.94-2.06 2.06-.94-2.06-.94L8.5 2.5l-.94 2.06-2.06.94zm10 10l.94 2.06.94-2.06 2.06-.94-2.06-.94-.94-2.06-.94 2.06-2.06.94z\"/><path d=\"M17.41 7.96l-1.37-1.37c-.4-.4-.92-.59-1.43-.59-.52 0-1.04.2-1.43.59L10.3 9.45l-7.72 7.72c-.78.78-.78 2.05 0 2.83L4 21.41c.39.39.9.59 1.41.59.51 0 1.02-.2 1.41-.59l7.78-7.78 2.81-2.81c.8-.78.8-2.07 0-2.86zM5.41 20L4 18.59l7.72-7.72 1.47 1.35L5.41 20z\"/>\n",
              "  </svg>\n",
              "      </button>\n",
              "      \n",
              "  <style>\n",
              "    .colab-df-container {\n",
              "      display:flex;\n",
              "      flex-wrap:wrap;\n",
              "      gap: 12px;\n",
              "    }\n",
              "\n",
              "    .colab-df-convert {\n",
              "      background-color: #E8F0FE;\n",
              "      border: none;\n",
              "      border-radius: 50%;\n",
              "      cursor: pointer;\n",
              "      display: none;\n",
              "      fill: #1967D2;\n",
              "      height: 32px;\n",
              "      padding: 0 0 0 0;\n",
              "      width: 32px;\n",
              "    }\n",
              "\n",
              "    .colab-df-convert:hover {\n",
              "      background-color: #E2EBFA;\n",
              "      box-shadow: 0px 1px 2px rgba(60, 64, 67, 0.3), 0px 1px 3px 1px rgba(60, 64, 67, 0.15);\n",
              "      fill: #174EA6;\n",
              "    }\n",
              "\n",
              "    [theme=dark] .colab-df-convert {\n",
              "      background-color: #3B4455;\n",
              "      fill: #D2E3FC;\n",
              "    }\n",
              "\n",
              "    [theme=dark] .colab-df-convert:hover {\n",
              "      background-color: #434B5C;\n",
              "      box-shadow: 0px 1px 3px 1px rgba(0, 0, 0, 0.15);\n",
              "      filter: drop-shadow(0px 1px 2px rgba(0, 0, 0, 0.3));\n",
              "      fill: #FFFFFF;\n",
              "    }\n",
              "  </style>\n",
              "\n",
              "      <script>\n",
              "        const buttonEl =\n",
              "          document.querySelector('#df-6d07831e-e19e-4eff-977c-972479c2a452 button.colab-df-convert');\n",
              "        buttonEl.style.display =\n",
              "          google.colab.kernel.accessAllowed ? 'block' : 'none';\n",
              "\n",
              "        async function convertToInteractive(key) {\n",
              "          const element = document.querySelector('#df-6d07831e-e19e-4eff-977c-972479c2a452');\n",
              "          const dataTable =\n",
              "            await google.colab.kernel.invokeFunction('convertToInteractive',\n",
              "                                                     [key], {});\n",
              "          if (!dataTable) return;\n",
              "\n",
              "          const docLinkHtml = 'Like what you see? Visit the ' +\n",
              "            '<a target=\"_blank\" href=https://colab.research.google.com/notebooks/data_table.ipynb>data table notebook</a>'\n",
              "            + ' to learn more about interactive tables.';\n",
              "          element.innerHTML = '';\n",
              "          dataTable['output_type'] = 'display_data';\n",
              "          await google.colab.output.renderOutput(dataTable, element);\n",
              "          const docLink = document.createElement('div');\n",
              "          docLink.innerHTML = docLinkHtml;\n",
              "          element.appendChild(docLink);\n",
              "        }\n",
              "      </script>\n",
              "    </div>\n",
              "  </div>\n",
              "  "
            ],
            "text/plain": [
              "       O       {\n",
              "0      O    صرفه\n",
              "1      O      اى\n",
              "2      O      در\n",
              "3      O     سخن\n",
              "4      O     نگه\n",
              "...   ..     ...\n",
              "34007  O    بنزد\n",
              "34008  O     شما\n",
              "34009  O  خواهيم\n",
              "34010  O     آمد\n",
              "34011  O       .\n",
              "\n",
              "[34012 rows x 2 columns]"
            ]
          },
          "execution_count": 3,
          "metadata": {},
          "output_type": "execute_result"
        }
      ],
      "source": [
        "import pandas as pd\n",
        "\n",
        "df = pd.read_excel('/content/drive/MyDrive/QaNER/QaNER_edited_Test.xlsx')\n",
        "\n",
        "df\n"
      ]
    },
    {
      "cell_type": "code",
      "execution_count": null,
      "metadata": {
        "colab": {
          "background_save": true
        },
        "id": "JvA3OL8MMmA-"
      },
      "outputs": [],
      "source": [
        "col_list1 = df[df.columns[1]].values.tolist()\n",
        "col_list0 = df[df.columns[0]].values.tolist()\n",
        "\n",
        "col_list1"
      ]
    },
    {
      "cell_type": "code",
      "execution_count": null,
      "metadata": {
        "id": "eTTX--5KQaog"
      },
      "outputs": [],
      "source": [
        "A = [str(x) for x in col_list1]"
      ]
    },
    {
      "cell_type": "code",
      "execution_count": null,
      "metadata": {
        "id": "wV3AJszHNAt_"
      },
      "outputs": [],
      "source": [
        "from hazm import *\n",
        "\n",
        "normalizer = Normalizer()\n",
        "collist1=[]\n",
        "for x in A:\n",
        "  x2=normalizer.normalize(x)\n",
        "  collist1.append(x2)"
      ]
    },
    {
      "cell_type": "code",
      "execution_count": null,
      "metadata": {
        "id": "ANCtw15fQnHq"
      },
      "outputs": [],
      "source": [
        "collist1"
      ]
    },
    {
      "cell_type": "code",
      "execution_count": null,
      "metadata": {
        "colab": {
          "base_uri": "https://localhost:8080/"
        },
        "id": "Y7Bh0OLPR6Qq",
        "outputId": "06e2884f-727e-4778-b622-327c25410fa6"
      },
      "outputs": [
        {
          "name": "stdout",
          "output_type": "stream",
          "text": [
            "34012\n",
            "34012\n"
          ]
        }
      ],
      "source": [
        "print(len(col_list0))\n",
        "print(len(collist1))"
      ]
    },
    {
      "cell_type": "code",
      "execution_count": null,
      "metadata": {
        "colab": {
          "base_uri": "https://localhost:8080/",
          "height": 424
        },
        "id": "xcMZ17qMQ7Bw",
        "outputId": "1f71415b-5d94-4e6b-aa57-20242cb76d44"
      },
      "outputs": [
        {
          "data": {
            "text/html": [
              "\n",
              "  <div id=\"df-7d91efed-19d2-43b3-8f5b-a60e1ba7d23f\">\n",
              "    <div class=\"colab-df-container\">\n",
              "      <div>\n",
              "<style scoped>\n",
              "    .dataframe tbody tr th:only-of-type {\n",
              "        vertical-align: middle;\n",
              "    }\n",
              "\n",
              "    .dataframe tbody tr th {\n",
              "        vertical-align: top;\n",
              "    }\n",
              "\n",
              "    .dataframe thead th {\n",
              "        text-align: right;\n",
              "    }\n",
              "</style>\n",
              "<table border=\"1\" class=\"dataframe\">\n",
              "  <thead>\n",
              "    <tr style=\"text-align: right;\">\n",
              "      <th></th>\n",
              "      <th>0</th>\n",
              "      <th>1</th>\n",
              "    </tr>\n",
              "  </thead>\n",
              "  <tbody>\n",
              "    <tr>\n",
              "      <th>0</th>\n",
              "      <td>O</td>\n",
              "      <td>صرفه</td>\n",
              "    </tr>\n",
              "    <tr>\n",
              "      <th>1</th>\n",
              "      <td>O</td>\n",
              "      <td>ای</td>\n",
              "    </tr>\n",
              "    <tr>\n",
              "      <th>2</th>\n",
              "      <td>O</td>\n",
              "      <td>در</td>\n",
              "    </tr>\n",
              "    <tr>\n",
              "      <th>3</th>\n",
              "      <td>O</td>\n",
              "      <td>سخن</td>\n",
              "    </tr>\n",
              "    <tr>\n",
              "      <th>4</th>\n",
              "      <td>O</td>\n",
              "      <td>نگه</td>\n",
              "    </tr>\n",
              "    <tr>\n",
              "      <th>...</th>\n",
              "      <td>...</td>\n",
              "      <td>...</td>\n",
              "    </tr>\n",
              "    <tr>\n",
              "      <th>34007</th>\n",
              "      <td>O</td>\n",
              "      <td>بنزد</td>\n",
              "    </tr>\n",
              "    <tr>\n",
              "      <th>34008</th>\n",
              "      <td>O</td>\n",
              "      <td>شما</td>\n",
              "    </tr>\n",
              "    <tr>\n",
              "      <th>34009</th>\n",
              "      <td>O</td>\n",
              "      <td>خواهیم</td>\n",
              "    </tr>\n",
              "    <tr>\n",
              "      <th>34010</th>\n",
              "      <td>O</td>\n",
              "      <td>آمد</td>\n",
              "    </tr>\n",
              "    <tr>\n",
              "      <th>34011</th>\n",
              "      <td>O</td>\n",
              "      <td>.</td>\n",
              "    </tr>\n",
              "  </tbody>\n",
              "</table>\n",
              "<p>34012 rows × 2 columns</p>\n",
              "</div>\n",
              "      <button class=\"colab-df-convert\" onclick=\"convertToInteractive('df-7d91efed-19d2-43b3-8f5b-a60e1ba7d23f')\"\n",
              "              title=\"Convert this dataframe to an interactive table.\"\n",
              "              style=\"display:none;\">\n",
              "        \n",
              "  <svg xmlns=\"http://www.w3.org/2000/svg\" height=\"24px\"viewBox=\"0 0 24 24\"\n",
              "       width=\"24px\">\n",
              "    <path d=\"M0 0h24v24H0V0z\" fill=\"none\"/>\n",
              "    <path d=\"M18.56 5.44l.94 2.06.94-2.06 2.06-.94-2.06-.94-.94-2.06-.94 2.06-2.06.94zm-11 1L8.5 8.5l.94-2.06 2.06-.94-2.06-.94L8.5 2.5l-.94 2.06-2.06.94zm10 10l.94 2.06.94-2.06 2.06-.94-2.06-.94-.94-2.06-.94 2.06-2.06.94z\"/><path d=\"M17.41 7.96l-1.37-1.37c-.4-.4-.92-.59-1.43-.59-.52 0-1.04.2-1.43.59L10.3 9.45l-7.72 7.72c-.78.78-.78 2.05 0 2.83L4 21.41c.39.39.9.59 1.41.59.51 0 1.02-.2 1.41-.59l7.78-7.78 2.81-2.81c.8-.78.8-2.07 0-2.86zM5.41 20L4 18.59l7.72-7.72 1.47 1.35L5.41 20z\"/>\n",
              "  </svg>\n",
              "      </button>\n",
              "      \n",
              "  <style>\n",
              "    .colab-df-container {\n",
              "      display:flex;\n",
              "      flex-wrap:wrap;\n",
              "      gap: 12px;\n",
              "    }\n",
              "\n",
              "    .colab-df-convert {\n",
              "      background-color: #E8F0FE;\n",
              "      border: none;\n",
              "      border-radius: 50%;\n",
              "      cursor: pointer;\n",
              "      display: none;\n",
              "      fill: #1967D2;\n",
              "      height: 32px;\n",
              "      padding: 0 0 0 0;\n",
              "      width: 32px;\n",
              "    }\n",
              "\n",
              "    .colab-df-convert:hover {\n",
              "      background-color: #E2EBFA;\n",
              "      box-shadow: 0px 1px 2px rgba(60, 64, 67, 0.3), 0px 1px 3px 1px rgba(60, 64, 67, 0.15);\n",
              "      fill: #174EA6;\n",
              "    }\n",
              "\n",
              "    [theme=dark] .colab-df-convert {\n",
              "      background-color: #3B4455;\n",
              "      fill: #D2E3FC;\n",
              "    }\n",
              "\n",
              "    [theme=dark] .colab-df-convert:hover {\n",
              "      background-color: #434B5C;\n",
              "      box-shadow: 0px 1px 3px 1px rgba(0, 0, 0, 0.15);\n",
              "      filter: drop-shadow(0px 1px 2px rgba(0, 0, 0, 0.3));\n",
              "      fill: #FFFFFF;\n",
              "    }\n",
              "  </style>\n",
              "\n",
              "      <script>\n",
              "        const buttonEl =\n",
              "          document.querySelector('#df-7d91efed-19d2-43b3-8f5b-a60e1ba7d23f button.colab-df-convert');\n",
              "        buttonEl.style.display =\n",
              "          google.colab.kernel.accessAllowed ? 'block' : 'none';\n",
              "\n",
              "        async function convertToInteractive(key) {\n",
              "          const element = document.querySelector('#df-7d91efed-19d2-43b3-8f5b-a60e1ba7d23f');\n",
              "          const dataTable =\n",
              "            await google.colab.kernel.invokeFunction('convertToInteractive',\n",
              "                                                     [key], {});\n",
              "          if (!dataTable) return;\n",
              "\n",
              "          const docLinkHtml = 'Like what you see? Visit the ' +\n",
              "            '<a target=\"_blank\" href=https://colab.research.google.com/notebooks/data_table.ipynb>data table notebook</a>'\n",
              "            + ' to learn more about interactive tables.';\n",
              "          element.innerHTML = '';\n",
              "          dataTable['output_type'] = 'display_data';\n",
              "          await google.colab.output.renderOutput(dataTable, element);\n",
              "          const docLink = document.createElement('div');\n",
              "          docLink.innerHTML = docLinkHtml;\n",
              "          element.appendChild(docLink);\n",
              "        }\n",
              "      </script>\n",
              "    </div>\n",
              "  </div>\n",
              "  "
            ],
            "text/plain": [
              "       0       1\n",
              "0      O    صرفه\n",
              "1      O      ای\n",
              "2      O      در\n",
              "3      O     سخن\n",
              "4      O     نگه\n",
              "...   ..     ...\n",
              "34007  O    بنزد\n",
              "34008  O     شما\n",
              "34009  O  خواهیم\n",
              "34010  O     آمد\n",
              "34011  O       .\n",
              "\n",
              "[34012 rows x 2 columns]"
            ]
          },
          "execution_count": 19,
          "metadata": {},
          "output_type": "execute_result"
        }
      ],
      "source": [
        "test_list = [col_list0, collist1]\n",
        "df1=pd.DataFrame(test_list).T\n",
        "df1"
      ]
    },
    {
      "cell_type": "code",
      "execution_count": null,
      "metadata": {
        "id": "hKL9uL3FSOOk"
      },
      "outputs": [],
      "source": [
        "df1.to_csv(\"output.csv\")\n"
      ]
    },
    {
      "cell_type": "code",
      "execution_count": null,
      "metadata": {
        "id": "LrQBz1-bjUsg"
      },
      "outputs": [],
      "source": [
        "df1.to_csv(r'data\\pandas.txt', header=None, index=None, sep='\\t', mode='a')\n"
      ]
    },
    {
      "cell_type": "code",
      "execution_count": null,
      "metadata": {
        "id": "gAQ67X6mcTOq"
      },
      "outputs": [],
      "source": [
        "import numpy as np\n",
        "np.savetxt(r'c:\\data\\np.txt',df1.values, fmt='%d', delimiter='\\t')\n"
      ]
    },
    {
      "cell_type": "code",
      "execution_count": null,
      "metadata": {
        "id": "F4Q21KMJ4gel"
      },
      "outputs": [],
      "source": [
        "with open('data/QaNER_edited_Test.txt') as d:\n",
        "    lines = d.readlines()"
      ]
    },
    {
      "cell_type": "code",
      "execution_count": null,
      "metadata": {
        "colab": {
          "base_uri": "https://localhost:8080/",
          "height": 36
        },
        "id": "VMktZXcN494Q",
        "outputId": "a881d455-a360-4de9-df02-ec2ed4b77f99"
      },
      "outputs": [
        {
          "data": {
            "application/vnd.google.colaboratory.intrinsic+json": {
              "type": "string"
            },
            "text/plain": [
              "'اصلاح نویسه\\u200cها و استفاده از نیم\\u200cفاصله پردازش را آسان می\\u200cکند'"
            ]
          },
          "execution_count": 33,
          "metadata": {},
          "output_type": "execute_result"
        }
      ],
      "source": [
        "normalizer.normalize('اصلاح نويسه ها و استفاده از نیم‌فاصله پردازش را آسان مي كند')\n"
      ]
    },
    {
      "cell_type": "code",
      "execution_count": null,
      "metadata": {
        "id": "S_OfW-OH5JMc"
      },
      "outputs": [],
      "source": [
        "with open('data/QaNER_edited_Test.txt') as f:\n",
        "    mylist = [line.rstrip('\\n') for line in f]"
      ]
    },
    {
      "cell_type": "code",
      "execution_count": null,
      "metadata": {
        "id": "1O4fJ3lNwo9j"
      },
      "outputs": [],
      "source": [
        "import hazm\n",
        "normalizer=hazm.Normalizer()\n",
        "f = open('data/QaNER_edited_Test.txt','r')\n",
        "normalized= normalizer.normalize(f)"
      ]
    },
    {
      "cell_type": "code",
      "execution_count": null,
      "metadata": {
        "id": "qKfGUj3pJRmG"
      },
      "outputs": [],
      "source": [
        "import csv\n",
        "\n",
        "# File names: to read in from and read out to\n",
        "#f = open('data/QaNER_edited_Test.txt','r')\n",
        "\n",
        "input_file = \"/content/drive/MyDrive/QaNER/data/QaNER_edited_Test.txt\"\n",
        "#input_file = open('/content/drive/MyDrive/QaNER/data/QaNER_edited_Test.txt','r')\n",
        "output_file = input_file + \"_SA_input.txt\"\n",
        "\n",
        "## ==================== ##\n",
        "##  Using module 'csv'  ##\n",
        "## ==================== ##\n",
        "with open(input_file) as to_read:\n",
        "    with open(output_file, \"wb\") as tmp_file:\n",
        "        reader = csv.reader(to_read, delimiter = \"\\t\")\n",
        "        writer = csv.writer(tmp_file)\n",
        "\n",
        "        desired_column = [1]        # text column\n",
        "\n",
        "        for row in reader:     # read one row at a time\n",
        "            myColumn = list(row[i] for i in desired_column)   # build the output row (process)\n",
        "            writer.writerow(myColumn) # write it"
      ]
    },
    {
      "cell_type": "code",
      "execution_count": null,
      "metadata": {
        "id": "mdD_9UBr7wuI"
      },
      "outputs": [],
      "source": [
        "from collections.abc import Sequence"
      ]
    },
    {
      "cell_type": "code",
      "execution_count": null,
      "metadata": {
        "id": "Lc1iw-Sm7Rhf"
      },
      "outputs": [],
      "source": [
        "#tmp_text = \"به گزارش ایسنا سمینار شیمی آلی از امروز ۱۱ شهریور ۱۳۹۶ در دانشگاه علم و صنعت ایران آغاز به کار کرد. این سمینار تا ۱۳ شهریور ادامه می یابد.\"\n",
        "from parsivar import Normalizer\n",
        "my_normalizer = Normalizer()\n",
        "print(my_normalizer.normalize(f))"
      ]
    },
    {
      "cell_type": "code",
      "execution_count": null,
      "metadata": {
        "colab": {
          "base_uri": "https://localhost:8080/",
          "height": 36
        },
        "id": "GZGaYc1ZyQBw",
        "outputId": "13fa9d3a-9109-4cc4-9725-29568a45c3ed"
      },
      "outputs": [
        {
          "data": {
            "application/vnd.google.colaboratory.intrinsic+json": {
              "type": "string"
            },
            "text/plain": [
              "'data / QaNER_edited_Test. txt'"
            ]
          },
          "execution_count": 6,
          "metadata": {},
          "output_type": "execute_result"
        }
      ],
      "source": [
        "normalized"
      ]
    },
    {
      "cell_type": "markdown",
      "metadata": {
        "id": "K8Fw6fn7WDXn"
      },
      "source": [
        "#train"
      ]
    },
    {
      "cell_type": "code",
      "execution_count": null,
      "metadata": {
        "id": "8Cb9f9CFsO0Q"
      },
      "outputs": [],
      "source": [
        "#data/QaNER_edited_Test"
      ]
    },
    {
      "cell_type": "code",
      "execution_count": null,
      "metadata": {
        "id": "1cadlCZYpdvI"
      },
      "outputs": [],
      "source": [
        "! python qaner/train.py \\\n",
        "--bert_model_name 'HooshvareLab/bert-base-parsbert-uncased' \\\n",
        "--path_to_prompt_mapper 'data/mapper.json' \\\n",
        "--path_to_train_data 'QaNER_edited_Train_2.txt' \\\n",
        "--path_to_test_data 'data/QaNER_edited_Test.txt' \\\n",
        "--path_to_save_model 'dayyass/qaner-majd-parsbert' \\\n",
        "--n_epochs 2 \\\n",
        "--batch_size 128 \\\n",
        "--learning_rate 1e-5 \\\n",
        "--seed 42 \\\n",
        "--log_dir 'runs/qaner'"
      ]
    }
  ],
  "metadata": {
    "accelerator": "GPU",
    "colab": {
      "provenance": [],
      "collapsed_sections": [
        "wEt--GdDJC0D"
      ]
    },
    "gpuClass": "standard",
    "kernelspec": {
      "display_name": "Python 3",
      "name": "python3"
    },
    "language_info": {
      "name": "python"
    }
  },
  "nbformat": 4,
  "nbformat_minor": 0
}